{
 "cells": [
  {
   "cell_type": "markdown",
   "metadata": {},
   "source": [
    "Read more cleverly data - no hardcoding columns\n",
    "Implemented at reader.py"
   ]
  },
  {
   "cell_type": "code",
   "execution_count": 4,
   "metadata": {},
   "outputs": [
    {
     "name": "stdout",
     "output_type": "stream",
     "text": [
      "['AA', 100, 32.2]\n",
      "{'name': 'AA', 'shares': 100, 'price': 32.2}\n",
      "{'name': 'AA', 'shares': 100, 'price': 32.2}\n"
     ]
    }
   ],
   "source": [
    "import csv\n",
    "\n",
    "columntypes = [str, int, float]\n",
    "\n",
    "with open('Data/portfolio.csv', 'r') as f:\n",
    "    data = csv.reader(f)\n",
    "\n",
    "    header = next(data)\n",
    "    row = next(data)\n",
    "\n",
    "    # Dynamically convert values to correct datatype\n",
    "    record = [ func(val) for func, val in zip(columntypes, row) ]\n",
    "    print(record)\n",
    "\n",
    "    # Add headers (complete dict)\n",
    "    print(dict(zip(header, record)))\n",
    "\n",
    "    # Whole thing in one line\n",
    "    record = { name: func(val) for name, func, val in zip(header, columntypes, row) }\n",
    "    print(record)"
   ]
  },
  {
   "cell_type": "markdown",
   "metadata": {},
   "source": [
    "Memory-wise better lookup using pointer id instead of string\n",
    "\n",
    "Using sys.intern, we can utilize id of object to find out number of unique \"strings\"\n",
    "- When interned, values are better cached and can be compared like here\n",
    "- More overlap, more efficient and less memory used (similar to clustering)"
   ]
  },
  {
   "cell_type": "code",
   "execution_count": 6,
   "metadata": {},
   "outputs": [
    {
     "name": "stdout",
     "output_type": "stream",
     "text": [
      "181\n"
     ]
    },
    {
     "data": {
      "text/plain": [
       "(216102998, 216124647)"
      ]
     },
     "execution_count": 6,
     "metadata": {},
     "output_type": "execute_result"
    }
   ],
   "source": [
    "# Normal way / 216MB\n",
    "\n",
    "import reader\n",
    "import tracemalloc\n",
    "\n",
    "tracemalloc.start()\n",
    "rows = reader.read_csv_as_dicts('Data/ctabus.csv', [str, str, str, int])\n",
    "routes = { row['route'] for row in rows }\n",
    "print(len(routes))\n",
    "\n",
    "tracemalloc.get_traced_memory()"
   ]
  },
  {
   "cell_type": "code",
   "execution_count": 7,
   "metadata": {},
   "outputs": [
    {
     "name": "stdout",
     "output_type": "stream",
     "text": [
      "181\n"
     ]
    },
    {
     "data": {
      "text/plain": [
       "(188310787, 404408707)"
      ]
     },
     "execution_count": 7,
     "metadata": {},
     "output_type": "execute_result"
    }
   ],
   "source": [
    "# Utilizing id's of pointers 188MB\n",
    "\n",
    "import reader\n",
    "import tracemalloc\n",
    "from sys import intern\n",
    "\n",
    "tracemalloc.start()\n",
    "rows = reader.read_csv_as_dicts('Data/ctabus.csv', [intern, str, str, int])\n",
    "routes = { id(row['route']) for row in rows }\n",
    "print(len(routes))\n",
    "\n",
    "tracemalloc.get_traced_memory()"
   ]
  }
 ],
 "metadata": {
  "kernelspec": {
   "display_name": "base",
   "language": "python",
   "name": "python3"
  },
  "language_info": {
   "codemirror_mode": {
    "name": "ipython",
    "version": 3
   },
   "file_extension": ".py",
   "mimetype": "text/x-python",
   "name": "python",
   "nbconvert_exporter": "python",
   "pygments_lexer": "ipython3",
   "version": "3.9.16"
  },
  "orig_nbformat": 4
 },
 "nbformat": 4,
 "nbformat_minor": 2
}

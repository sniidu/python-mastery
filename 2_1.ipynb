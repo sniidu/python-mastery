{
 "cells": [
  {
   "cell_type": "markdown",
   "metadata": {},
   "source": [
    "# Dataset\n",
    "Daily ridership data of 577 000 rows.\n",
    "\n",
    "Cols:\n",
    " - route: Column 0. The bus route name.\n",
    " - date: Column 1. A date string of the form MM/DD/YYYY.\n",
    " - daytype: Column 2. A day type code (U=Sunday/Holiday, A=Saturday, W=Weekday)\n",
    " - rides: Column 3. Total number of riders (integer)\n",
    "\n",
    "Finding efficient ways to use it."
   ]
  },
  {
   "cell_type": "code",
   "execution_count": 1,
   "metadata": {},
   "outputs": [],
   "source": [
    "f = open('Data/ctabus.csv')"
   ]
  },
  {
   "cell_type": "markdown",
   "metadata": {},
   "source": [
    "# Tracemalloc for memory baseline\n",
    "- Current = 12459796 = 12MB\n",
    "- Peak = 37182052 = 37MB\n",
    "\n",
    "List of strings takes 4x compared to one string\n",
    "List of tuples takes 10x compared to one string "
   ]
  },
  {
   "cell_type": "code",
   "execution_count": 14,
   "metadata": {},
   "outputs": [
    {
     "name": "stdout",
     "output_type": "stream",
     "text": [
      "12459796 37182052\n"
     ]
    }
   ],
   "source": [
    "# Data into single string\n",
    "import tracemalloc\n",
    "\n",
    "f = open('Data/ctabus.csv')\n",
    "tracemalloc.start()\n",
    "data = f.read()\n",
    "len(data)\n",
    "current, peak = tracemalloc.get_traced_memory()\n",
    "print(current, peak)"
   ]
  },
  {
   "cell_type": "code",
   "execution_count": 15,
   "metadata": {},
   "outputs": [
    {
     "name": "stdout",
     "output_type": "stream",
     "text": [
      "45445022 57814157\n"
     ]
    }
   ],
   "source": [
    "# Data into list of strings\n",
    "import tracemalloc\n",
    "\n",
    "f = open('Data/ctabus.csv')\n",
    "tracemalloc.start()\n",
    "data = f.readlines()\n",
    "len(data)\n",
    "current, peak = tracemalloc.get_traced_memory()\n",
    "print(current, peak)"
   ]
  },
  {
   "cell_type": "code",
   "execution_count": 16,
   "metadata": {},
   "outputs": [
    {
     "name": "stdout",
     "output_type": "stream",
     "text": [
      "Memory Use: Current 169245695, Peak 169276145\n"
     ]
    }
   ],
   "source": [
    "import csv\n",
    "\n",
    "def read_rides_as_tuples(filename):\n",
    "    '''\n",
    "    Read the bus ride data as a list of tuples\n",
    "    '''\n",
    "    records = []\n",
    "    with open(filename) as f:\n",
    "        rows = csv.reader(f)\n",
    "        headings = next(rows)     # Skip headers\n",
    "        for row in rows:\n",
    "            route = row[0]\n",
    "            date = row[1]\n",
    "            daytype = row[2]\n",
    "            rides = int(row[3])\n",
    "            record = (route, date, daytype, rides)\n",
    "            records.append(record)\n",
    "    return records\n",
    "\n",
    "if __name__ == '__main__':\n",
    "    import tracemalloc\n",
    "    tracemalloc.start()\n",
    "    rows = read_rides_as_tuples('Data/ctabus.csv')\n",
    "    print('Memory Use: Current %d, Peak %d' % tracemalloc.get_traced_memory())"
   ]
  },
  {
   "cell_type": "markdown",
   "metadata": {},
   "source": [
    "# Potential data structures\n",
    "\n",
    "Create readrides in all ways and see which is most memory efficient when dealing with **whole** dataset\n",
    "\n",
    "## Results\n",
    "\n",
    "- tuple\n",
    "  - 1st place\n",
    "  - Current 169245695, Peak 169276145\n",
    "- dict\n",
    "  - 3rd place\n",
    "  - Current 261807653, Peak 385381738\n",
    "- class\n",
    "  - 2nd place\n",
    "  - Current 215482050, Peak 431591439\n",
    "- named tuple\n",
    "  - 5th place\n",
    "  - Current 1712783780, Peak 1882703601\n",
    "- class with slots\n",
    "  - 4th place\n",
    "  - Current 1703567671, Peak 1882703601\n",
    "- pandas\n",
    "  - Around slotted class\n",
    "  - Current 1631708868, Peak 1882703601"
   ]
  },
  {
   "cell_type": "code",
   "execution_count": null,
   "metadata": {},
   "outputs": [],
   "source": [
    "# A tuple\n",
    "row = (route, date, daytype, rides)\n",
    "\n",
    "# A dictionary\n",
    "row = {\n",
    "    'route': route,\n",
    "    'date': date,\n",
    "    'daytype': daytype,\n",
    "    'rides': rides,\n",
    "}\n",
    "\n",
    "# A class\n",
    "class Row:\n",
    "    def __init__(self, route, date, daytype, rides):\n",
    "        self.route = route\n",
    "        self.date = date\n",
    "        self.daytype = daytype\n",
    "        self.rides = rides\n",
    "\n",
    "# A named tuple\n",
    "from collections import namedtuple\n",
    "Row = namedtuple('Row', ['route', 'date', 'daytype', 'rides'])\n",
    "\n",
    "# A class with __slots__\n",
    "class Row:\n",
    "    __slots__ = ['route', 'date', 'daytype', 'rides']\n",
    "    def __init__(self, route, date, daytype, rides):\n",
    "        self.route = route\n",
    "        self.date = date\n",
    "        self.daytype = daytype\n",
    "        self.rides = rides"
   ]
  },
  {
   "cell_type": "code",
   "execution_count": 17,
   "metadata": {},
   "outputs": [
    {
     "name": "stdout",
     "output_type": "stream",
     "text": [
      "Memory Use: Current 261807653, Peak 385381738\n"
     ]
    }
   ],
   "source": [
    "# Dictionary\n",
    "\n",
    "import csv\n",
    "\n",
    "def read_rides_as_dict(filename):\n",
    "    '''\n",
    "    Read the bus ride data as a list of dicts\n",
    "    '''\n",
    "    records = []\n",
    "    with open(filename) as f:\n",
    "        rows = csv.reader(f)\n",
    "        headings = next(rows)     # Skip headers\n",
    "        for row in rows:\n",
    "            route = row[0]\n",
    "            date = row[1]\n",
    "            daytype = row[2]\n",
    "            rides = int(row[3])\n",
    "            record = {\n",
    "                'route': route,\n",
    "                'date': date,\n",
    "                'daytype': daytype,\n",
    "                'rides': rides,\n",
    "                }\n",
    "            records.append(record)\n",
    "    return records\n",
    "\n",
    "if __name__ == '__main__':\n",
    "    import tracemalloc\n",
    "    tracemalloc.start()\n",
    "    rows = read_rides_as_dict('Data/ctabus.csv')\n",
    "    print('Memory Use: Current %d, Peak %d' % tracemalloc.get_traced_memory())"
   ]
  },
  {
   "cell_type": "code",
   "execution_count": 18,
   "metadata": {},
   "outputs": [
    {
     "name": "stdout",
     "output_type": "stream",
     "text": [
      "Memory Use: Current 215482050, Peak 431591439\n"
     ]
    }
   ],
   "source": [
    "# Class\n",
    "\n",
    "import csv\n",
    "\n",
    "class Row:\n",
    "    def __init__(self, route, date, daytype, rides):\n",
    "        self.route = route\n",
    "        self.date = date\n",
    "        self.daytype = daytype\n",
    "        self.rides = rides\n",
    "\n",
    "def read_rides_as_class(filename):\n",
    "    '''\n",
    "    Read the bus ride data as a list of class objects\n",
    "    '''\n",
    "    records = []\n",
    "    with open(filename) as f:\n",
    "        rows = csv.reader(f)\n",
    "        headings = next(rows)     # Skip headers\n",
    "        for row in rows:\n",
    "            route = row[0]\n",
    "            date = row[1]\n",
    "            daytype = row[2]\n",
    "            rides = int(row[3])\n",
    "            record = Row(route, date, daytype, rides)\n",
    "            records.append(record)\n",
    "    return records\n",
    "\n",
    "if __name__ == '__main__':\n",
    "    import tracemalloc\n",
    "    tracemalloc.start()\n",
    "    rows = read_rides_as_class('Data/ctabus.csv')\n",
    "    print('Memory Use: Current %d, Peak %d' % tracemalloc.get_traced_memory())"
   ]
  },
  {
   "cell_type": "code",
   "execution_count": 20,
   "metadata": {},
   "outputs": [
    {
     "name": "stdout",
     "output_type": "stream",
     "text": [
      "Memory Use: Current 1712783780, Peak 1882703601\n"
     ]
    }
   ],
   "source": [
    "# Named tuple\n",
    "\n",
    "import csv\n",
    "from collections import namedtuple\n",
    "\n",
    "Record = namedtuple('Record', ['route', 'date', 'daytype', 'rides'])\n",
    "\n",
    "def read_rides_as_named_tuple(filename):\n",
    "    '''\n",
    "    Read the bus ride data as a list of named tuples\n",
    "    '''\n",
    "    records = []\n",
    "    with open(filename) as f:\n",
    "        rows = csv.reader(f)\n",
    "        headings = next(rows)     # Skip headers\n",
    "        for row in rows:\n",
    "            route = row[0]\n",
    "            date = row[1]\n",
    "            daytype = row[2]\n",
    "            rides = int(row[3])\n",
    "            record = Record(route, date, daytype, rides)\n",
    "            records.append(record)\n",
    "    return records\n",
    "\n",
    "if __name__ == '__main__':\n",
    "    import tracemalloc\n",
    "    tracemalloc.start()\n",
    "    rows = read_rides_as_named_tuple('Data/ctabus.csv')\n",
    "    print('Memory Use: Current %d, Peak %d' % tracemalloc.get_traced_memory())"
   ]
  },
  {
   "cell_type": "code",
   "execution_count": 21,
   "metadata": {},
   "outputs": [
    {
     "name": "stdout",
     "output_type": "stream",
     "text": [
      "Memory Use: Current 1703567671, Peak 1882703601\n"
     ]
    }
   ],
   "source": [
    "# Class with slots\n",
    "\n",
    "import csv\n",
    "\n",
    "class Row:\n",
    "    __slots__ = ['route', 'date', 'daytype', 'rides']\n",
    "    def __init__(self, route, date, daytype, rides):\n",
    "        self.route = route\n",
    "        self.date = date\n",
    "        self.daytype = daytype\n",
    "        self.rides = rides\n",
    "\n",
    "def read_rides_as_class_with_slots(filename):\n",
    "    '''\n",
    "    Read the bus ride data as a list of class objects\n",
    "    '''\n",
    "    records = []\n",
    "    with open(filename) as f:\n",
    "        rows = csv.reader(f)\n",
    "        headings = next(rows)     # Skip headers\n",
    "        for row in rows:\n",
    "            route = row[0]\n",
    "            date = row[1]\n",
    "            daytype = row[2]\n",
    "            rides = int(row[3])\n",
    "            record = Row(route, date, daytype, rides)\n",
    "            records.append(record)\n",
    "    return records\n",
    "\n",
    "if __name__ == '__main__':\n",
    "    import tracemalloc\n",
    "    tracemalloc.start()\n",
    "    rows = read_rides_as_class_with_slots('Data/ctabus.csv')\n",
    "    print('Memory Use: Current %d, Peak %d' % tracemalloc.get_traced_memory())        "
   ]
  },
  {
   "cell_type": "code",
   "execution_count": 22,
   "metadata": {},
   "outputs": [
    {
     "name": "stdout",
     "output_type": "stream",
     "text": [
      "Memory Use: Current 1631708868, Peak 1882703601\n"
     ]
    }
   ],
   "source": [
    "# Pandas\n",
    "\n",
    "import pandas as pd\n",
    "\n",
    "def read_rides_as_pandas(filename):\n",
    "    '''\n",
    "    Read the bus ride data as a pandas dataframe\n",
    "    '''\n",
    "    records = pd.read_csv(filename)\n",
    "    return records\n",
    "\n",
    "if __name__ == '__main__':\n",
    "    import tracemalloc\n",
    "    tracemalloc.start()\n",
    "    rows = read_rides_as_pandas('Data/ctabus.csv')\n",
    "    print('Memory Use: Current %d, Peak %d' % tracemalloc.get_traced_memory())  "
   ]
  }
 ],
 "metadata": {
  "kernelspec": {
   "display_name": "base",
   "language": "python",
   "name": "python3"
  },
  "language_info": {
   "codemirror_mode": {
    "name": "ipython",
    "version": 3
   },
   "file_extension": ".py",
   "mimetype": "text/x-python",
   "name": "python",
   "nbconvert_exporter": "python",
   "pygments_lexer": "ipython3",
   "version": "3.9.16"
  },
  "orig_nbformat": 4
 },
 "nbformat": 4,
 "nbformat_minor": 2
}

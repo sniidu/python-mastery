{
 "cells": [
  {
   "cell_type": "code",
   "execution_count": 4,
   "metadata": {},
   "outputs": [
    {
     "ename": "TypeError",
     "evalue": "Expected float",
     "output_type": "error",
     "traceback": [
      "\u001b[0;31m---------------------------------------------------------------------------\u001b[0m",
      "\u001b[0;31mTypeError\u001b[0m                                 Traceback (most recent call last)",
      "Cell \u001b[0;32mIn[4], line 10\u001b[0m\n\u001b[1;32m      7\u001b[0m     _types \u001b[39m=\u001b[39m (\u001b[39mstr\u001b[39m, \u001b[39mint\u001b[39m, Decimal)\n\u001b[1;32m      9\u001b[0m s \u001b[39m=\u001b[39m DStock(\u001b[39m'\u001b[39m\u001b[39mAA\u001b[39m\u001b[39m'\u001b[39m, \u001b[39m50\u001b[39m, Decimal(\u001b[39m'\u001b[39m\u001b[39m91.1\u001b[39m\u001b[39m'\u001b[39m))\n\u001b[0;32m---> 10\u001b[0m s\u001b[39m.\u001b[39;49mprice \u001b[39m=\u001b[39m \u001b[39m92.3\u001b[39m\n",
      "File \u001b[0;32m~/repos/personal/python-mastery/stock.py:39\u001b[0m, in \u001b[0;36mStock.price\u001b[0;34m(self, value)\u001b[0m\n\u001b[1;32m     36\u001b[0m \u001b[39m@price\u001b[39m\u001b[39m.\u001b[39msetter\n\u001b[1;32m     37\u001b[0m \u001b[39mdef\u001b[39;00m \u001b[39mprice\u001b[39m(\u001b[39mself\u001b[39m, value):\n\u001b[1;32m     38\u001b[0m     \u001b[39mif\u001b[39;00m \u001b[39mnot\u001b[39;00m \u001b[39misinstance\u001b[39m(value, \u001b[39mself\u001b[39m\u001b[39m.\u001b[39m_types[\u001b[39m2\u001b[39m]):\n\u001b[0;32m---> 39\u001b[0m         \u001b[39mraise\u001b[39;00m \u001b[39mTypeError\u001b[39;00m(\u001b[39m'\u001b[39m\u001b[39mExpected float\u001b[39m\u001b[39m'\u001b[39m)\n\u001b[1;32m     40\u001b[0m     \u001b[39melif\u001b[39;00m value \u001b[39m<\u001b[39m \u001b[39m0\u001b[39m:\n\u001b[1;32m     41\u001b[0m         \u001b[39mraise\u001b[39;00m \u001b[39mValueError\u001b[39;00m(\u001b[39m'\u001b[39m\u001b[39mPrice must be >= 0\u001b[39m\u001b[39m'\u001b[39m)\n",
      "\u001b[0;31mTypeError\u001b[0m: Expected float"
     ]
    }
   ],
   "source": [
    "from decimal import Decimal\n",
    "from stock import Stock\n",
    "\n",
    "# Inheritance example to change price type to decimal\n",
    "# Everything works still as expected\n",
    "class DStock(Stock):\n",
    "    _types = (str, int, Decimal)\n",
    "\n",
    "s = DStock('AA', 50, Decimal('91.1'))\n",
    "s.price = 92.3\n"
   ]
  }
 ],
 "metadata": {
  "kernelspec": {
   "display_name": "base",
   "language": "python",
   "name": "python3"
  },
  "language_info": {
   "codemirror_mode": {
    "name": "ipython",
    "version": 3
   },
   "file_extension": ".py",
   "mimetype": "text/x-python",
   "name": "python",
   "nbconvert_exporter": "python",
   "pygments_lexer": "ipython3",
   "version": "3.9.16"
  },
  "orig_nbformat": 4
 },
 "nbformat": 4,
 "nbformat_minor": 2
}

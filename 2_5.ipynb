{
 "cells": [
  {
   "cell_type": "code",
   "execution_count": 1,
   "metadata": {},
   "outputs": [
    {
     "name": "stdout",
     "output_type": "stream",
     "text": [
      "56\n",
      "88\n",
      "88\n",
      "88\n",
      "88\n",
      "120\n"
     ]
    }
   ],
   "source": [
    "# Lists and memory\n",
    "# 4 slot reservation\n",
    "\n",
    "import sys\n",
    "items = [] \n",
    "# Empty 56\n",
    "print(sys.getsizeof(items))\n",
    "items.append(1)\n",
    "# Reserved for four slots 88 = 56 + 4 * 8\n",
    "print(sys.getsizeof(items))\n",
    "items.append(1)\n",
    "print(sys.getsizeof(items))\n",
    "items.append(1)\n",
    "print(sys.getsizeof(items))\n",
    "items.append(1)\n",
    "print(sys.getsizeof(items))\n",
    "items.append(1)\n",
    "# Next 4 slots as mem of 120\n",
    "print(sys.getsizeof(items))\n"
   ]
  },
  {
   "cell_type": "code",
   "execution_count": 3,
   "metadata": {},
   "outputs": [
    {
     "name": "stdout",
     "output_type": "stream",
     "text": [
      "64\n",
      "232\n",
      "232\n",
      "360\n",
      "360\n"
     ]
    }
   ],
   "source": [
    "# Dicts and memory\n",
    "# 5 slot reservation\n",
    "\n",
    "import sys\n",
    "items = {}\n",
    "# Empty 64 bytes\n",
    "print(sys.getsizeof(items))\n",
    "items = { 'route': '22', 'date': '01/01/2001', 'daytype': 'U', 'rides': 7354 }\n",
    "# Reserved for five slots\n",
    "print(sys.getsizeof(items))\n",
    "items['adsf'] = 123\n",
    "print(sys.getsizeof(items))\n",
    "items['adsadsff'] = 123\n",
    "print(sys.getsizeof(items))\n",
    "\n",
    "# Goes down when removing?\n",
    "# Nope\n",
    "items.pop('adsf')\n",
    "items.pop('adsadsff')\n",
    "print(sys.getsizeof(items))"
   ]
  },
  {
   "cell_type": "markdown",
   "metadata": {},
   "source": [
    "# Efficient data reading\n",
    "With dicts in list it was 260MB\n",
    "**With lists in dict it takes 96MB**\n",
    "\n",
    "When changing read_rides_as_dict to use newly implemented class, we'll get 96MB there as well and all requirements to continue working with analysis already done"
   ]
  },
  {
   "cell_type": "code",
   "execution_count": 4,
   "metadata": {},
   "outputs": [],
   "source": [
    "# Readrides as column oriented\n",
    "\n",
    "import csv \n",
    "\n",
    "def read_rides_as_columns(filename):\n",
    "    '''\n",
    "    Read the bus ride data into 4 lists, representing columns\n",
    "    '''\n",
    "    routes = []\n",
    "    dates = []\n",
    "    daytypes = []\n",
    "    numrides = []\n",
    "    with open(filename) as f:\n",
    "        rows = csv.reader(f)\n",
    "        headings = next(rows)     # Skip headers\n",
    "        for row in rows:\n",
    "            routes.append(row[0])\n",
    "            dates.append(row[1])\n",
    "            daytypes.append(row[2])\n",
    "            numrides.append(int(row[3]))\n",
    "    return dict(routes=routes, dates=dates, daytypes=daytypes, numrides=numrides)"
   ]
  },
  {
   "cell_type": "code",
   "execution_count": 7,
   "metadata": {},
   "outputs": [
    {
     "data": {
      "text/plain": [
       "(96169338, 96199724)"
      ]
     },
     "execution_count": 7,
     "metadata": {},
     "output_type": "execute_result"
    }
   ],
   "source": [
    "import tracemalloc\n",
    "\n",
    "tracemalloc.start()\n",
    "columns = read_rides_as_columns('Data/ctabus.csv')\n",
    "tracemalloc.get_traced_memory()"
   ]
  },
  {
   "cell_type": "code",
   "execution_count": 32,
   "metadata": {},
   "outputs": [
    {
     "name": "stdout",
     "output_type": "stream",
     "text": [
      "577563\n",
      "{'route': '3', 'date': '01/01/2001', 'daytype': 'U', 'rides': 7354}\n"
     ]
    }
   ],
   "source": [
    "# Changed readrides to use class with column list\n",
    "\n",
    "import readrides\n",
    "\n",
    "rides = readrides.read_rides_as_dict('Data/ctabus.csv')\n",
    "print(len(rides))\n",
    "print(rides[0])"
   ]
  },
  {
   "cell_type": "code",
   "execution_count": 18,
   "metadata": {},
   "outputs": [
    {
     "data": {
      "text/plain": [
       "dict"
      ]
     },
     "execution_count": 18,
     "metadata": {},
     "output_type": "execute_result"
    }
   ],
   "source": [
    "# Doesn't know how to handle\n",
    "r = rides[1:10]\n",
    "\n",
    "type(r)\n",
    "# r[0]"
   ]
  },
  {
   "cell_type": "code",
   "execution_count": 33,
   "metadata": {},
   "outputs": [
    {
     "data": {
      "text/plain": [
       "{'route': ['3', '4'],\n",
       " 'date': ['01/01/2001', '01/01/2001'],\n",
       " 'daytype': ['U', 'U'],\n",
       " 'rides': [7354, 9288]}"
      ]
     },
     "execution_count": 33,
     "metadata": {},
     "output_type": "execute_result"
    }
   ],
   "source": [
    "rides[0:2]"
   ]
  }
 ],
 "metadata": {
  "kernelspec": {
   "display_name": "base",
   "language": "python",
   "name": "python3"
  },
  "language_info": {
   "codemirror_mode": {
    "name": "ipython",
    "version": 3
   },
   "file_extension": ".py",
   "mimetype": "text/x-python",
   "name": "python",
   "nbconvert_exporter": "python",
   "pygments_lexer": "ipython3",
   "version": "3.9.16"
  },
  "orig_nbformat": 4
 },
 "nbformat": 4,
 "nbformat_minor": 2
}

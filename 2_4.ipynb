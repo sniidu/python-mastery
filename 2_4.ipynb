{
 "cells": [
  {
   "cell_type": "markdown",
   "metadata": {},
   "source": [
    "# Primitive type"
   ]
  },
  {
   "cell_type": "code",
   "execution_count": 7,
   "metadata": {},
   "outputs": [],
   "source": [
    "# mutint.py\n",
    "\n",
    "class MutInt:\n",
    "    __slots__ = ['value']\n",
    "\n",
    "    def __init__(self, value):\n",
    "        self.value = value"
   ]
  },
  {
   "cell_type": "code",
   "execution_count": 4,
   "metadata": {},
   "outputs": [
    {
     "ename": "TypeError",
     "evalue": "unsupported operand type(s) for +: 'MutInt' and 'int'",
     "output_type": "error",
     "traceback": [
      "\u001b[0;31m---------------------------------------------------------------------------\u001b[0m",
      "\u001b[0;31mTypeError\u001b[0m                                 Traceback (most recent call last)",
      "Cell \u001b[0;32mIn[4], line 7\u001b[0m\n\u001b[1;32m      4\u001b[0m a\u001b[39m.\u001b[39mvalue \u001b[39m=\u001b[39m \u001b[39m30\u001b[39m\n\u001b[1;32m      5\u001b[0m a\u001b[39m.\u001b[39mvalue\n\u001b[0;32m----> 7\u001b[0m a \u001b[39m+\u001b[39;49m \u001b[39m10\u001b[39;49m\n",
      "\u001b[0;31mTypeError\u001b[0m: unsupported operand type(s) for +: 'MutInt' and 'int'"
     ]
    }
   ],
   "source": [
    "a = MutInt(3)\n",
    "a.value\n",
    "\n",
    "a.value = 30\n",
    "a.value\n",
    "\n",
    "a + 10"
   ]
  },
  {
   "cell_type": "code",
   "execution_count": 9,
   "metadata": {},
   "outputs": [
    {
     "name": "stdout",
     "output_type": "stream",
     "text": [
      "<__main__.MutInt object at 0x10918e4c0>\n"
     ]
    },
    {
     "ename": "TypeError",
     "evalue": "unsupported format string passed to MutInt.__format__",
     "output_type": "error",
     "traceback": [
      "\u001b[0;31m---------------------------------------------------------------------------\u001b[0m",
      "\u001b[0;31mTypeError\u001b[0m                                 Traceback (most recent call last)",
      "Cell \u001b[0;32mIn[9], line 3\u001b[0m\n\u001b[1;32m      1\u001b[0m a \u001b[39m=\u001b[39m MutInt(\u001b[39m3\u001b[39m)\n\u001b[1;32m      2\u001b[0m \u001b[39mprint\u001b[39m(a) \u001b[39m# __repr__\u001b[39;00m\n\u001b[0;32m----> 3\u001b[0m \u001b[39mf\u001b[39m\u001b[39m'\u001b[39m\u001b[39mThe value is \u001b[39m\u001b[39m{\u001b[39;00ma\u001b[39m:\u001b[39;00m\u001b[39m*^10d\u001b[39m\u001b[39m}\u001b[39;00m\u001b[39m'\u001b[39m\n",
      "\u001b[0;31mTypeError\u001b[0m: unsupported format string passed to MutInt.__format__"
     ]
    }
   ],
   "source": [
    "a = MutInt(3)\n",
    "print(a) # __repr__\n",
    "f'The value is {a:*^10d}' # unsupported format string passed to MutInt.__format__\n",
    "\n"
   ]
  },
  {
   "cell_type": "code",
   "execution_count": 29,
   "metadata": {},
   "outputs": [],
   "source": [
    "# mint.py\n",
    "from functools import total_ordering\n",
    "\n",
    "@total_ordering\n",
    "class MutInt:\n",
    "    __slots__ = ['value']\n",
    "\n",
    "    def __init__(self, value):\n",
    "        self.value = value\n",
    "\n",
    "    def __str__(self):\n",
    "        return str(self.value)\n",
    "\n",
    "    def __repr__(self):\n",
    "        return f'MutInt({self.value!r})'\n",
    "\n",
    "    def __format__(self, fmt):\n",
    "        return format(self.value, fmt)\n",
    "    \n",
    "    def __add__(self, other):\n",
    "        if isinstance(other, MutInt):\n",
    "            return MutInt(self.value + other.value)\n",
    "        elif isinstance(other, int):\n",
    "            return MutInt(self.value + other)\n",
    "        else:\n",
    "            return NotImplemented\n",
    "\n",
    "    # Reverse add to get int + MutInt to work\n",
    "    __radd__ = __add__\n",
    "\n",
    "    # Add += functionality\n",
    "    def __iadd__(self, other):\n",
    "        if isinstance(other, MutInt):\n",
    "            self.value += other.value\n",
    "            return self\n",
    "        elif isinstance(other, int):\n",
    "            self.value += other\n",
    "            return self\n",
    "        else:\n",
    "            return NotImplemented\n",
    "\n",
    "    # This is for == comparison\n",
    "    def __eq__(self, other):\n",
    "        if isinstance(other, MutInt):\n",
    "            return self.value == other.value\n",
    "        elif isinstance(other, int):\n",
    "            return self.value == other\n",
    "        else:\n",
    "            return NotImplemented\n",
    "\n",
    "    # This for < comparison\n",
    "    def __lt__(self, other):\n",
    "        if isinstance(other, MutInt):\n",
    "            return self.value < other.value\n",
    "        elif isinstance(other, int):\n",
    "            return self.value < other\n",
    "        else:\n",
    "            return NotImplemented\n",
    "\n",
    "    def __int__(self):\n",
    "        return self.value\n",
    "\n",
    "    def __float__(self):\n",
    "        return float(self.value)"
   ]
  },
  {
   "cell_type": "code",
   "execution_count": 30,
   "metadata": {},
   "outputs": [
    {
     "name": "stdout",
     "output_type": "stream",
     "text": [
      "95\n",
      "145\n",
      "55\n"
     ]
    },
    {
     "data": {
      "text/plain": [
       "False"
      ]
     },
     "execution_count": 30,
     "metadata": {},
     "output_type": "execute_result"
    }
   ],
   "source": [
    "a = MutInt(45)\n",
    "b = MutInt(50)\n",
    "\n",
    "print(a + b)\n",
    "\n",
    "print(a + 100)\n",
    "\n",
    "# No idea how to add with strings\n",
    "# print(a + '100')\n",
    "\n",
    "# No idea how to add MutInt to int without __radd__\n",
    "print(10 + a)\n",
    "\n",
    "# Value is inherited like with lists\n",
    "b = a\n",
    "a += 20\n",
    "b\n",
    "\n",
    "a == b\n",
    "# '>' not supported between instances of 'MutInt' and 'MutInt'\n",
    "# When adding @total_ordering decorator, class will fill methods based on logic in couple other comparison builtins\n",
    "a > b"
   ]
  }
 ],
 "metadata": {
  "kernelspec": {
   "display_name": "base",
   "language": "python",
   "name": "python3"
  },
  "language_info": {
   "codemirror_mode": {
    "name": "ipython",
    "version": 3
   },
   "file_extension": ".py",
   "mimetype": "text/x-python",
   "name": "python",
   "nbconvert_exporter": "python",
   "pygments_lexer": "ipython3",
   "version": "3.9.16"
  },
  "orig_nbformat": 4
 },
 "nbformat": 4,
 "nbformat_minor": 2
}

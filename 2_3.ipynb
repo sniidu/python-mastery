{
 "cells": [
  {
   "cell_type": "markdown",
   "metadata": {},
   "source": [
    "# Iterators"
   ]
  },
  {
   "cell_type": "code",
   "execution_count": 1,
   "metadata": {},
   "outputs": [],
   "source": [
    "# Data\n",
    "\n",
    "import csv\n",
    "f = open('Data/portfolio.csv')\n",
    "f_csv = csv.reader(f)\n",
    "headers = next(f_csv)\n",
    "rows = list(f_csv)"
   ]
  },
  {
   "cell_type": "code",
   "execution_count": 2,
   "metadata": {},
   "outputs": [
    {
     "name": "stdout",
     "output_type": "stream",
     "text": [
      "['AA', '100', '32.20']\n",
      "['IBM', '50', '91.10']\n",
      "['CAT', '150', '83.44']\n",
      "['MSFT', '200', '51.23']\n",
      "['GE', '95', '40.37']\n",
      "['MSFT', '50', '65.10']\n",
      "['IBM', '100', '70.44']\n"
     ]
    }
   ],
   "source": [
    "# Basic iteration\n",
    "\n",
    "for row in rows:\n",
    "    print(row)"
   ]
  },
  {
   "cell_type": "code",
   "execution_count": 3,
   "metadata": {},
   "outputs": [
    {
     "name": "stdout",
     "output_type": "stream",
     "text": [
      "AA 100 32.20\n",
      "IBM 50 91.10\n",
      "CAT 150 83.44\n",
      "MSFT 200 51.23\n",
      "GE 95 40.37\n",
      "MSFT 50 65.10\n",
      "IBM 100 70.44\n"
     ]
    }
   ],
   "source": [
    "# Unpacking\n",
    "\n",
    "for name, shares, price in rows:\n",
    "    print(name, shares, price)"
   ]
  },
  {
   "cell_type": "code",
   "execution_count": 4,
   "metadata": {},
   "outputs": [
    {
     "name": "stdout",
     "output_type": "stream",
     "text": [
      "32.20\n",
      "91.10\n",
      "83.44\n",
      "51.23\n",
      "40.37\n",
      "65.10\n",
      "70.44\n"
     ]
    }
   ],
   "source": [
    "# Throwaway\n",
    "\n",
    "for _, _, price in rows:\n",
    "    print(price)"
   ]
  },
  {
   "cell_type": "code",
   "execution_count": 5,
   "metadata": {},
   "outputs": [
    {
     "name": "stdout",
     "output_type": "stream",
     "text": [
      "AA ['100', '32.20']\n",
      "IBM ['50', '91.10']\n",
      "CAT ['150', '83.44']\n",
      "MSFT ['200', '51.23']\n",
      "GE ['95', '40.37']\n",
      "MSFT ['50', '65.10']\n",
      "IBM ['100', '70.44']\n"
     ]
    }
   ],
   "source": [
    "# Unpacking with wildcard\n",
    "\n",
    "for name, *values in rows:\n",
    "    print(name, values)\n",
    "\n",
    "# ** vs. *\n",
    "\n",
    "# def foo(*args):\n",
    "#     for a in args:\n",
    "#         print(a)        \n",
    "\n",
    "# foo(1)\n",
    "# # 1\n",
    "\n",
    "# foo(1, 2, 3)\n",
    "# # 1\n",
    "# # 2\n",
    "# # 3\n",
    "\n",
    "# def bar(**kwargs):\n",
    "#     for a in kwargs:\n",
    "#         print(a, kwargs[a])  \n",
    "\n",
    "# bar(name='one', age=27)\n",
    "# # name one\n",
    "# # age 27"
   ]
  },
  {
   "cell_type": "code",
   "execution_count": 10,
   "metadata": {},
   "outputs": [
    {
     "name": "stdout",
     "output_type": "stream",
     "text": [
      "50 91.10\n",
      "100 70.44\n"
     ]
    },
    {
     "data": {
      "text/plain": [
       "defaultdict(list,\n",
       "            {'AA': [['100', '32.20']],\n",
       "             'IBM': [['50', '91.10'], ['100', '70.44']],\n",
       "             'CAT': [['150', '83.44']],\n",
       "             'MSFT': [['200', '51.23'], ['50', '65.10']],\n",
       "             'GE': [['95', '40.37']]})"
      ]
     },
     "execution_count": 10,
     "metadata": {},
     "output_type": "execute_result"
    }
   ],
   "source": [
    "# Group by name\n",
    "from collections import defaultdict\n",
    "\n",
    "byname = defaultdict(list)\n",
    "for name, *data in rows:\n",
    "    byname[name].append(data)\n",
    "\n",
    "for shares, price in byname['IBM']:\n",
    "    print(shares, price)\n",
    "\n",
    "byname"
   ]
  },
  {
   "cell_type": "code",
   "execution_count": 11,
   "metadata": {},
   "outputs": [
    {
     "name": "stdout",
     "output_type": "stream",
     "text": [
      "0 ['AA', '100', '32.20']\n",
      "1 ['IBM', '50', '91.10']\n",
      "2 ['CAT', '150', '83.44']\n",
      "3 ['MSFT', '200', '51.23']\n",
      "4 ['GE', '95', '40.37']\n",
      "5 ['MSFT', '50', '65.10']\n",
      "6 ['IBM', '100', '70.44']\n"
     ]
    }
   ],
   "source": [
    "# Enumerate\n",
    "\n",
    "for i, row in enumerate(rows):\n",
    "    print(i, row)"
   ]
  },
  {
   "cell_type": "code",
   "execution_count": 13,
   "metadata": {},
   "outputs": [
    {
     "name": "stdout",
     "output_type": "stream",
     "text": [
      "0 AA ['100', '32.20']\n",
      "1 IBM ['50', '91.10']\n",
      "2 CAT ['150', '83.44']\n",
      "3 MSFT ['200', '51.23']\n",
      "4 GE ['95', '40.37']\n",
      "5 MSFT ['50', '65.10']\n",
      "6 IBM ['100', '70.44']\n"
     ]
    }
   ],
   "source": [
    "# Enumerate with unpacking\n",
    "\n",
    "for i, (name, *data) in enumerate(rows):\n",
    "    print(i, name, data)"
   ]
  },
  {
   "cell_type": "code",
   "execution_count": 15,
   "metadata": {},
   "outputs": [
    {
     "name": "stdout",
     "output_type": "stream",
     "text": [
      "name AA\n",
      "shares 100\n",
      "price 32.20\n"
     ]
    }
   ],
   "source": [
    "# zip to combine lists\n",
    "\n",
    "for col, val in zip(headers, rows[0]):\n",
    "    print(col, val)"
   ]
  },
  {
   "cell_type": "code",
   "execution_count": 16,
   "metadata": {},
   "outputs": [
    {
     "data": {
      "text/plain": [
       "{'name': 'AA', 'shares': '100', 'price': '32.20'}"
      ]
     },
     "execution_count": 16,
     "metadata": {},
     "output_type": "execute_result"
    }
   ],
   "source": [
    "# zip to dict\n",
    "\n",
    "dict(zip(headers, rows[0]))"
   ]
  },
  {
   "cell_type": "code",
   "execution_count": 17,
   "metadata": {},
   "outputs": [
    {
     "name": "stdout",
     "output_type": "stream",
     "text": [
      "{'name': 'AA', 'shares': '100', 'price': '32.20'}\n",
      "{'name': 'IBM', 'shares': '50', 'price': '91.10'}\n",
      "{'name': 'CAT', 'shares': '150', 'price': '83.44'}\n",
      "{'name': 'MSFT', 'shares': '200', 'price': '51.23'}\n",
      "{'name': 'GE', 'shares': '95', 'price': '40.37'}\n",
      "{'name': 'MSFT', 'shares': '50', 'price': '65.10'}\n",
      "{'name': 'IBM', 'shares': '100', 'price': '70.44'}\n"
     ]
    }
   ],
   "source": [
    "# Sequence dictionaries\n",
    "\n",
    "for row in rows:\n",
    "    print(dict(zip(headers, row)))"
   ]
  },
  {
   "cell_type": "code",
   "execution_count": 18,
   "metadata": {},
   "outputs": [
    {
     "name": "stdout",
     "output_type": "stream",
     "text": [
      "144\n",
      "441\n",
      "103041\n",
      "97344\n",
      "1156\n"
     ]
    }
   ],
   "source": [
    "# Generator generates one time results without storing to list\n",
    "# Prints just once as generator empty after first loop\n",
    "# Get manually using next() function\n",
    "\n",
    "nums = [12,21,321,312,34]\n",
    "squares = (x*x for x in nums)\n",
    "for n in squares:\n",
    "    print(n)\n",
    "\n",
    "for n in squares:\n",
    "    print(n)\n"
   ]
  },
  {
   "cell_type": "code",
   "execution_count": 21,
   "metadata": {},
   "outputs": [
    {
     "name": "stdout",
     "output_type": "stream",
     "text": [
      "144\n",
      "441\n",
      "103041\n",
      "97344\n",
      "1156\n"
     ]
    }
   ],
   "source": [
    "# In generator functions we'll use yield instead of return\n",
    "\n",
    "def square(nums):\n",
    "    for x in nums:\n",
    "        yield x*x\n",
    "\n",
    "for n in square(nums):\n",
    "    print(n)"
   ]
  },
  {
   "cell_type": "code",
   "execution_count": 26,
   "metadata": {},
   "outputs": [
    {
     "name": "stdout",
     "output_type": "stream",
     "text": [
      "50\n",
      "True\n",
      "False\n",
      "150\n"
     ]
    }
   ],
   "source": [
    "# Useful with sum() min() etc function feeding\n",
    "\n",
    "from readport import read_portfolio\n",
    "\n",
    "data = read_portfolio('Data/portfolio.csv')\n",
    "summed = sum(s['shares'] * s['price'] for s in data)\n",
    "# Instead of \n",
    "summed = [s['shares'] * s['price'] for s in data]\n",
    "sum(summed)\n",
    "\n",
    "print(min(s['shares'] for s in data))\n",
    "print(any(s['name'] == 'IBM' for s in data))\n",
    "print(all(s['name'] == 'IBM' for s in data))\n",
    "print(sum(s['shares'] for s in data if s['name'] == 'IBM'))"
   ]
  },
  {
   "cell_type": "code",
   "execution_count": 31,
   "metadata": {},
   "outputs": [
    {
     "data": {
      "text/plain": [
       "'GOOG,100,490.1'"
      ]
     },
     "execution_count": 31,
     "metadata": {},
     "output_type": "execute_result"
    }
   ],
   "source": [
    "# Generator for joining string\n",
    "\n",
    "s = ('GOOG',100,490.10)\n",
    "# Fails as gets int\n",
    "# ','.join(s)\n",
    "','.join(str(x) for x in s)"
   ]
  },
  {
   "cell_type": "code",
   "execution_count": 37,
   "metadata": {},
   "outputs": [
    {
     "data": {
      "text/plain": [
       "(217809480, 433921319)"
      ]
     },
     "execution_count": 37,
     "metadata": {},
     "output_type": "execute_result"
    }
   ],
   "source": [
    "# Memory usage should be lot less when using generator\n",
    "\n",
    "import tracemalloc\n",
    "tracemalloc.start()\n",
    "\n",
    "import readrides\n",
    "rows = readrides.read_rides_as_dict('Data/ctabus.csv')\n",
    "rt22 = [row for row in rows if row['route'] == '22']\n",
    "max(rt22, key=lambda row: row['rides'])\n",
    "# {'date': '06/11/2008', 'route': '22', 'daytype': 'W', 'rides': 26896}\n",
    "tracemalloc.get_traced_memory()\n",
    "\n",
    "# (217 809 480, 433921319) 217MB"
   ]
  },
  {
   "cell_type": "code",
   "execution_count": 38,
   "metadata": {},
   "outputs": [
    {
     "data": {
      "text/plain": [
       "(1732040, 433921319)"
      ]
     },
     "execution_count": 38,
     "metadata": {},
     "output_type": "execute_result"
    }
   ],
   "source": [
    "import tracemalloc\n",
    "tracemalloc.start()\n",
    "\n",
    "import csv\n",
    "f = open('Data/ctabus.csv')\n",
    "f_csv = csv.reader(f)\n",
    "headers = next(f_csv)\n",
    "# Generator is done here\n",
    "rows = (dict(zip(headers,row)) for row in f_csv)\n",
    "# As well as here - just one time looping around, not saving raw dataset to memory\n",
    "# Saving just filtered results\n",
    "rt22 = (row for row in rows if row['route'] == '22')\n",
    "max(rt22, key=lambda row: int(row['rides']))\n",
    "# {'date': '06/11/2008', 'route': '22', 'daytype': 'W', 'rides': 26896}\n",
    "tracemalloc.get_traced_memory()\n",
    "\n",
    "# (1 732 040, 433921319) 1.7MB "
   ]
  }
 ],
 "metadata": {
  "kernelspec": {
   "display_name": "base",
   "language": "python",
   "name": "python3"
  },
  "language_info": {
   "codemirror_mode": {
    "name": "ipython",
    "version": 3
   },
   "file_extension": ".py",
   "mimetype": "text/x-python",
   "name": "python",
   "nbconvert_exporter": "python",
   "pygments_lexer": "ipython3",
   "version": "3.9.16"
  },
  "orig_nbformat": 4
 },
 "nbformat": 4,
 "nbformat_minor": 2
}

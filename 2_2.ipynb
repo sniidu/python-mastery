{
 "cells": [
  {
   "cell_type": "code",
   "execution_count": 4,
   "metadata": {},
   "outputs": [
    {
     "name": "stdout",
     "output_type": "stream",
     "text": [
      "[{'name': 'AA', 'price': 32.2, 'shares': 100},\n",
      " {'name': 'IBM', 'price': 91.1, 'shares': 50},\n",
      " {'name': 'CAT', 'price': 83.44, 'shares': 150},\n",
      " {'name': 'MSFT', 'price': 51.23, 'shares': 200},\n",
      " {'name': 'GE', 'price': 40.37, 'shares': 95},\n",
      " {'name': 'MSFT', 'price': 65.1, 'shares': 50},\n",
      " {'name': 'IBM', 'price': 70.44, 'shares': 100}]\n"
     ]
    }
   ],
   "source": [
    "# readport.py\n",
    "\n",
    "import csv\n",
    "from pprint import pprint\n",
    "\n",
    "# A function that reads a file into a list of dicts\n",
    "def read_portfolio(filename):\n",
    "    portfolio = []\n",
    "    with open(filename) as f:\n",
    "        rows = csv.reader(f)\n",
    "        headers = next(rows)\n",
    "        for row in rows:\n",
    "            record = {\n",
    "                'name' : row[0],\n",
    "                'shares' : int(row[1]),\n",
    "                'price' : float(row[2])\n",
    "            }\n",
    "            portfolio.append(record)\n",
    "    return portfolio\n",
    "\n",
    "portfolio = read_portfolio('Data/portfolio.csv')\n",
    "pprint(portfolio)"
   ]
  },
  {
   "cell_type": "code",
   "execution_count": 9,
   "metadata": {},
   "outputs": [],
   "source": [
    "# Find all holdings more than 100 shares\n",
    "[s for s in portfolio if s['shares'] > 100]\n",
    "\n",
    "# Compute total cost (shares * price)\n",
    "sum([s['shares']*s['price'] for s in portfolio])\n",
    "\n",
    "# Find all unique stock names (set)\n",
    "{ s['name'] for s in portfolio }\n",
    "\n",
    "# Count the total shares of each of stock\n",
    "totals = { s['name']: 0 for s in portfolio }\n",
    "for s in portfolio:\n",
    "    totals[s['name']] += s['shares']\n",
    "\n",
    "# Same with Counter\n",
    "from collections import Counter\n",
    "totals = Counter()\n",
    "for s in portfolio:\n",
    "    totals[s['name']] += s['shares']\n",
    "\n",
    "# Get the two most common holdings\n",
    "totals.most_common(2)"
   ]
  },
  {
   "cell_type": "code",
   "execution_count": 10,
   "metadata": {},
   "outputs": [
    {
     "ename": "KeyError",
     "evalue": "'AA'",
     "output_type": "error",
     "traceback": [
      "\u001b[0;31m---------------------------------------------------------------------------\u001b[0m",
      "\u001b[0;31mKeyError\u001b[0m                                  Traceback (most recent call last)",
      "Cell \u001b[0;32mIn[10], line 3\u001b[0m\n\u001b[1;32m      1\u001b[0m byname \u001b[39m=\u001b[39m {}\n\u001b[1;32m      2\u001b[0m \u001b[39mfor\u001b[39;00m s \u001b[39min\u001b[39;00m portfolio:\n\u001b[0;32m----> 3\u001b[0m     byname[s[\u001b[39m'\u001b[39;49m\u001b[39mname\u001b[39;49m\u001b[39m'\u001b[39;49m]]\u001b[39m.\u001b[39mappend(s)\n\u001b[1;32m      5\u001b[0m byname\n",
      "\u001b[0;31mKeyError\u001b[0m: 'AA'"
     ]
    }
   ],
   "source": [
    "# Errors as no keys provided\n",
    "\n",
    "byname = {}\n",
    "for s in portfolio:\n",
    "    byname[s['name']].append(s)\n",
    "\n",
    "byname"
   ]
  },
  {
   "cell_type": "code",
   "execution_count": 13,
   "metadata": {},
   "outputs": [
    {
     "data": {
      "text/plain": [
       "[{'name': 'MSFT', 'shares': 200, 'price': 51.23},\n",
       " {'name': 'MSFT', 'shares': 50, 'price': 65.1}]"
      ]
     },
     "execution_count": 13,
     "metadata": {},
     "output_type": "execute_result"
    }
   ],
   "source": [
    "# Defaultdict automatically initializes elements\n",
    "\n",
    "from collections import defaultdict\n",
    "\n",
    "byname = defaultdict(list)\n",
    "for s in portfolio:\n",
    "    byname[s['name']].append(s)\n",
    "\n",
    "byname['MSFT']"
   ]
  },
  {
   "cell_type": "code",
   "execution_count": 14,
   "metadata": {},
   "outputs": [],
   "source": [
    "import csv\n",
    "\n",
    "def read_rides_as_dict(filename):\n",
    "    '''\n",
    "    Read the bus ride data as a list of dicts\n",
    "    '''\n",
    "    records = []\n",
    "    with open(filename) as f:\n",
    "        rows = csv.reader(f)\n",
    "        headings = next(rows)     # Skip headers\n",
    "        for row in rows:\n",
    "            route = row[0]\n",
    "            date = row[1]\n",
    "            daytype = row[2]\n",
    "            rides = int(row[3])\n",
    "            record = {\n",
    "                'route': route,\n",
    "                'date': date,\n",
    "                'daytype': daytype,\n",
    "                'rides': rides,\n",
    "                }\n",
    "            records.append(record)\n",
    "    return records\n",
    "\n",
    "if __name__ == '__main__':\n",
    "    rows = read_rides_as_dict('Data/ctabus.csv')"
   ]
  },
  {
   "cell_type": "markdown",
   "metadata": {},
   "source": [
    "In this exercise, you task is this: write a program to answer the following three questions:\n",
    "\n",
    "- How many bus routes exist in Chicago?\n",
    "- How many people rode the number 22 bus on February 2, 2011? What about any route on any date of your choosing?\n",
    "- What is the total number of rides taken on each bus route?\n",
    "- What five bus routes had the greatest ten-year increase in ridership from 2001 to 2011?\n",
    "\n",
    "You are free to use any technique whatsoever to answer the above questions as long as it's part of the Python standard library (i.e., built-in datatypes, standard library modules, etc.)."
   ]
  },
  {
   "cell_type": "code",
   "execution_count": 30,
   "metadata": {},
   "outputs": [
    {
     "data": {
      "text/plain": [
       "4856090"
      ]
     },
     "execution_count": 30,
     "metadata": {},
     "output_type": "execute_result"
    }
   ],
   "source": [
    "# Using list of dicts\n",
    "\n",
    "# How many bus routes exist in Chicago? / 181\n",
    "len({ row['route'] for row in rows })\n",
    "\n",
    "# How many people rode the number 22 bus on February 2, 2011? / 218422\n",
    "# What about any route on any date of your choosing?\n",
    "\n",
    "sum( row['rides'] for row in rows if row['date'] == '02/02/2011' )\n",
    "sum( row['rides'] for row in rows if row['date'] == '02/02/2010' )\n",
    "\n",
    "# What is the total number of rides taken on each bus route?\n",
    "from collections import Counter\n",
    "from pprint import pprint\n",
    "\n",
    "totals = Counter()\n",
    "for row in rows:\n",
    "    totals[row['route']] += row['rides']\n",
    "\n",
    "totals\n",
    "#pprint(totals)\n",
    "\n",
    "# Testing\n",
    "# '290S': 7308\n",
    "# sum([ row['rides'] for row in rows if row['route'] == '290S' ])\n",
    "\n",
    "# What five bus routes had the greatest ten-year increase in ridership from 2001 to 2011?\n",
    "totals = Counter()\n",
    "for row in rows:\n",
    "    if row['date'][-4:] == '2011':\n",
    "        totals[row['route']] += row['rides']\n",
    "    elif row['date'][-4:] == '2001':\n",
    "        totals[row['route']] -= row['rides']\n",
    "\n",
    "totals.most_common(5)\n",
    "\n",
    "# Testing\n",
    "# ('15', 2732209)\n",
    "# sum([ row['rides'] for row in rows if row['date'][-4:] == '2001' and row['route'] == '15' ]) # 0\n",
    "# sum([ row['rides'] for row in rows if row['date'][-4:] == '2011' and row['route'] == '15' ]) # 2732209\n",
    "# sum([ row['rides'] for row in rows if row['date'][-4:] == '2001' and row['route'] == '147' ]) # 2748180\n",
    "# sum([ row['rides'] for row in rows if row['date'][-4:] == '2011' and row['route'] == '147' ]) # 4856090 = 2 107 910\n"
   ]
  }
 ],
 "metadata": {
  "kernelspec": {
   "display_name": "base",
   "language": "python",
   "name": "python3"
  },
  "language_info": {
   "codemirror_mode": {
    "name": "ipython",
    "version": 3
   },
   "file_extension": ".py",
   "mimetype": "text/x-python",
   "name": "python",
   "nbconvert_exporter": "python",
   "pygments_lexer": "ipython3",
   "version": "3.9.16"
  },
  "orig_nbformat": 4
 },
 "nbformat": 4,
 "nbformat_minor": 2
}
